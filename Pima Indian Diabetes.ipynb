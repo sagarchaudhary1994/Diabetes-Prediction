{
 "cells": [
  {
   "cell_type": "code",
   "execution_count": 1,
   "metadata": {},
   "outputs": [],
   "source": [
    "#loading libraries\n",
    "import pandas as pd\n",
    "import numpy as np\n",
    "import matplotlib.pyplot as plt\n",
    "import seaborn as sns\n",
    "import warnings\n",
    "warnings.filterwarnings(\"ignore\")"
   ]
  },
  {
   "cell_type": "code",
   "execution_count": 2,
   "metadata": {},
   "outputs": [],
   "source": [
    "#Loading data\n",
    "data=pd.read_csv(\"./data/pima-data.csv\")"
   ]
  },
  {
   "cell_type": "code",
   "execution_count": 3,
   "metadata": {},
   "outputs": [
    {
     "data": {
      "text/plain": [
       "(768, 10)"
      ]
     },
     "execution_count": 3,
     "metadata": {},
     "output_type": "execute_result"
    }
   ],
   "source": [
    "#Checking the shape of data\n",
    "data.shape"
   ]
  },
  {
   "cell_type": "code",
   "execution_count": 4,
   "metadata": {},
   "outputs": [
    {
     "data": {
      "text/html": [
       "<div>\n",
       "<style scoped>\n",
       "    .dataframe tbody tr th:only-of-type {\n",
       "        vertical-align: middle;\n",
       "    }\n",
       "\n",
       "    .dataframe tbody tr th {\n",
       "        vertical-align: top;\n",
       "    }\n",
       "\n",
       "    .dataframe thead th {\n",
       "        text-align: right;\n",
       "    }\n",
       "</style>\n",
       "<table border=\"1\" class=\"dataframe\">\n",
       "  <thead>\n",
       "    <tr style=\"text-align: right;\">\n",
       "      <th></th>\n",
       "      <th>num_preg</th>\n",
       "      <th>glucose_conc</th>\n",
       "      <th>diastolic_bp</th>\n",
       "      <th>thickness</th>\n",
       "      <th>insulin</th>\n",
       "      <th>bmi</th>\n",
       "      <th>diab_pred</th>\n",
       "      <th>age</th>\n",
       "      <th>skin</th>\n",
       "      <th>diabetes</th>\n",
       "    </tr>\n",
       "  </thead>\n",
       "  <tbody>\n",
       "    <tr>\n",
       "      <td>0</td>\n",
       "      <td>6</td>\n",
       "      <td>148</td>\n",
       "      <td>72</td>\n",
       "      <td>35</td>\n",
       "      <td>0</td>\n",
       "      <td>33.6</td>\n",
       "      <td>0.627</td>\n",
       "      <td>50</td>\n",
       "      <td>1.3790</td>\n",
       "      <td>True</td>\n",
       "    </tr>\n",
       "    <tr>\n",
       "      <td>1</td>\n",
       "      <td>1</td>\n",
       "      <td>85</td>\n",
       "      <td>66</td>\n",
       "      <td>29</td>\n",
       "      <td>0</td>\n",
       "      <td>26.6</td>\n",
       "      <td>0.351</td>\n",
       "      <td>31</td>\n",
       "      <td>1.1426</td>\n",
       "      <td>False</td>\n",
       "    </tr>\n",
       "  </tbody>\n",
       "</table>\n",
       "</div>"
      ],
      "text/plain": [
       "   num_preg  glucose_conc  diastolic_bp  thickness  insulin   bmi  diab_pred  \\\n",
       "0         6           148            72         35        0  33.6      0.627   \n",
       "1         1            85            66         29        0  26.6      0.351   \n",
       "\n",
       "   age    skin  diabetes  \n",
       "0   50  1.3790      True  \n",
       "1   31  1.1426     False  "
      ]
     },
     "execution_count": 4,
     "metadata": {},
     "output_type": "execute_result"
    }
   ],
   "source": [
    "#Checking the first wo records of the data\n",
    "data.head(2)"
   ]
  },
  {
   "cell_type": "code",
   "execution_count": 5,
   "metadata": {},
   "outputs": [
    {
     "data": {
      "text/plain": [
       "False"
      ]
     },
     "execution_count": 5,
     "metadata": {},
     "output_type": "execute_result"
    }
   ],
   "source": [
    "#Check if any null value os present in the data\n",
    "data.isnull().values.any()"
   ]
  },
  {
   "cell_type": "markdown",
   "metadata": {},
   "source": [
    "So there are no null values in the data"
   ]
  },
  {
   "cell_type": "code",
   "execution_count": 6,
   "metadata": {},
   "outputs": [
    {
     "data": {
      "text/plain": [
       "num_preg          int64\n",
       "glucose_conc      int64\n",
       "diastolic_bp      int64\n",
       "thickness         int64\n",
       "insulin           int64\n",
       "bmi             float64\n",
       "diab_pred       float64\n",
       "age               int64\n",
       "skin            float64\n",
       "diabetes           bool\n",
       "dtype: object"
      ]
     },
     "execution_count": 6,
     "metadata": {},
     "output_type": "execute_result"
    }
   ],
   "source": [
    "#Checking the datatypes of features\n",
    "data.dtypes"
   ]
  },
  {
   "cell_type": "code",
   "execution_count": 7,
   "metadata": {},
   "outputs": [
    {
     "data": {
      "text/html": [
       "<div>\n",
       "<style scoped>\n",
       "    .dataframe tbody tr th:only-of-type {\n",
       "        vertical-align: middle;\n",
       "    }\n",
       "\n",
       "    .dataframe tbody tr th {\n",
       "        vertical-align: top;\n",
       "    }\n",
       "\n",
       "    .dataframe thead th {\n",
       "        text-align: right;\n",
       "    }\n",
       "</style>\n",
       "<table border=\"1\" class=\"dataframe\">\n",
       "  <thead>\n",
       "    <tr style=\"text-align: right;\">\n",
       "      <th></th>\n",
       "      <th>num_preg</th>\n",
       "      <th>glucose_conc</th>\n",
       "      <th>diastolic_bp</th>\n",
       "      <th>thickness</th>\n",
       "      <th>insulin</th>\n",
       "      <th>bmi</th>\n",
       "      <th>diab_pred</th>\n",
       "      <th>age</th>\n",
       "      <th>skin</th>\n",
       "    </tr>\n",
       "  </thead>\n",
       "  <tbody>\n",
       "    <tr>\n",
       "      <td>count</td>\n",
       "      <td>768.000000</td>\n",
       "      <td>768.000000</td>\n",
       "      <td>768.000000</td>\n",
       "      <td>768.000000</td>\n",
       "      <td>768.000000</td>\n",
       "      <td>768.000000</td>\n",
       "      <td>768.000000</td>\n",
       "      <td>768.000000</td>\n",
       "      <td>768.000000</td>\n",
       "    </tr>\n",
       "    <tr>\n",
       "      <td>mean</td>\n",
       "      <td>3.845052</td>\n",
       "      <td>120.894531</td>\n",
       "      <td>69.105469</td>\n",
       "      <td>20.536458</td>\n",
       "      <td>79.799479</td>\n",
       "      <td>31.992578</td>\n",
       "      <td>0.471876</td>\n",
       "      <td>33.240885</td>\n",
       "      <td>0.809136</td>\n",
       "    </tr>\n",
       "    <tr>\n",
       "      <td>std</td>\n",
       "      <td>3.369578</td>\n",
       "      <td>31.972618</td>\n",
       "      <td>19.355807</td>\n",
       "      <td>15.952218</td>\n",
       "      <td>115.244002</td>\n",
       "      <td>7.884160</td>\n",
       "      <td>0.331329</td>\n",
       "      <td>11.760232</td>\n",
       "      <td>0.628517</td>\n",
       "    </tr>\n",
       "    <tr>\n",
       "      <td>min</td>\n",
       "      <td>0.000000</td>\n",
       "      <td>0.000000</td>\n",
       "      <td>0.000000</td>\n",
       "      <td>0.000000</td>\n",
       "      <td>0.000000</td>\n",
       "      <td>0.000000</td>\n",
       "      <td>0.078000</td>\n",
       "      <td>21.000000</td>\n",
       "      <td>0.000000</td>\n",
       "    </tr>\n",
       "    <tr>\n",
       "      <td>25%</td>\n",
       "      <td>1.000000</td>\n",
       "      <td>99.000000</td>\n",
       "      <td>62.000000</td>\n",
       "      <td>0.000000</td>\n",
       "      <td>0.000000</td>\n",
       "      <td>27.300000</td>\n",
       "      <td>0.243750</td>\n",
       "      <td>24.000000</td>\n",
       "      <td>0.000000</td>\n",
       "    </tr>\n",
       "    <tr>\n",
       "      <td>50%</td>\n",
       "      <td>3.000000</td>\n",
       "      <td>117.000000</td>\n",
       "      <td>72.000000</td>\n",
       "      <td>23.000000</td>\n",
       "      <td>30.500000</td>\n",
       "      <td>32.000000</td>\n",
       "      <td>0.372500</td>\n",
       "      <td>29.000000</td>\n",
       "      <td>0.906200</td>\n",
       "    </tr>\n",
       "    <tr>\n",
       "      <td>75%</td>\n",
       "      <td>6.000000</td>\n",
       "      <td>140.250000</td>\n",
       "      <td>80.000000</td>\n",
       "      <td>32.000000</td>\n",
       "      <td>127.250000</td>\n",
       "      <td>36.600000</td>\n",
       "      <td>0.626250</td>\n",
       "      <td>41.000000</td>\n",
       "      <td>1.260800</td>\n",
       "    </tr>\n",
       "    <tr>\n",
       "      <td>max</td>\n",
       "      <td>17.000000</td>\n",
       "      <td>199.000000</td>\n",
       "      <td>122.000000</td>\n",
       "      <td>99.000000</td>\n",
       "      <td>846.000000</td>\n",
       "      <td>67.100000</td>\n",
       "      <td>2.420000</td>\n",
       "      <td>81.000000</td>\n",
       "      <td>3.900600</td>\n",
       "    </tr>\n",
       "  </tbody>\n",
       "</table>\n",
       "</div>"
      ],
      "text/plain": [
       "         num_preg  glucose_conc  diastolic_bp   thickness     insulin  \\\n",
       "count  768.000000    768.000000    768.000000  768.000000  768.000000   \n",
       "mean     3.845052    120.894531     69.105469   20.536458   79.799479   \n",
       "std      3.369578     31.972618     19.355807   15.952218  115.244002   \n",
       "min      0.000000      0.000000      0.000000    0.000000    0.000000   \n",
       "25%      1.000000     99.000000     62.000000    0.000000    0.000000   \n",
       "50%      3.000000    117.000000     72.000000   23.000000   30.500000   \n",
       "75%      6.000000    140.250000     80.000000   32.000000  127.250000   \n",
       "max     17.000000    199.000000    122.000000   99.000000  846.000000   \n",
       "\n",
       "              bmi   diab_pred         age        skin  \n",
       "count  768.000000  768.000000  768.000000  768.000000  \n",
       "mean    31.992578    0.471876   33.240885    0.809136  \n",
       "std      7.884160    0.331329   11.760232    0.628517  \n",
       "min      0.000000    0.078000   21.000000    0.000000  \n",
       "25%     27.300000    0.243750   24.000000    0.000000  \n",
       "50%     32.000000    0.372500   29.000000    0.906200  \n",
       "75%     36.600000    0.626250   41.000000    1.260800  \n",
       "max     67.100000    2.420000   81.000000    3.900600  "
      ]
     },
     "execution_count": 7,
     "metadata": {},
     "output_type": "execute_result"
    }
   ],
   "source": [
    "#Check for the structure of data\n",
    "data.describe()\n"
   ]
  },
  {
   "cell_type": "markdown",
   "metadata": {},
   "source": [
    "The minimum value for features num_preg, glucose_conc, diastolic_bp, thickness, insulin, bmi, skin is zero and except num_preg \n",
    "other features cannot be zeroes they were considered to be not recorded."
   ]
  },
  {
   "cell_type": "code",
   "execution_count": 8,
   "metadata": {},
   "outputs": [
    {
     "name": "stdout",
     "output_type": "stream",
     "text": [
      "Number of cases with 0 num_preg are 111\n",
      "Number of cases with 0 glucose_conc are 5\n",
      "Number of cases with 0 diastolic_bp are 35\n",
      "Number of cases with 0 thickness are 227\n",
      "Number of cases with 0 insulin are 374\n",
      "Number of cases with 0 bmi are 11\n",
      "Number of cases with 0 diab_pred are 0\n",
      "Number of cases with 0 age are 0\n",
      "Number of cases with 0 skin are 227\n"
     ]
    }
   ],
   "source": [
    "#Check the count of the records where features are having the zero value\n",
    "print(\"Number of cases with 0 num_preg are {}\".format(len(data[data['num_preg']==0])))\n",
    "print(\"Number of cases with 0 glucose_conc are {}\".format(len(data[data['glucose_conc']==0])))\n",
    "print(\"Number of cases with 0 diastolic_bp are {}\".format(len(data[data['diastolic_bp']==0])))\n",
    "print(\"Number of cases with 0 thickness are {}\".format(len(data[data['thickness']==0])))\n",
    "print(\"Number of cases with 0 insulin are {}\".format(len(data[data['insulin']==0])))\n",
    "print(\"Number of cases with 0 bmi are {}\".format(len(data[data['bmi']==0])))\n",
    "print(\"Number of cases with 0 diab_pred are {}\".format(len(data[data['diab_pred']==0])))\n",
    "print(\"Number of cases with 0 age are {}\".format(len(data[data['age']==0])))\n",
    "print(\"Number of cases with 0 skin are {}\".format(len(data[data['skin']==0])))"
   ]
  },
  {
   "cell_type": "markdown",
   "metadata": {},
   "source": [
    "So there are 5 cases with zero glucose_conc, 35 cases with zero diastolic_bp , 227 cases with zero thickness, 374 cases with zero insulin, 11 cases with zero bmi, and 227 cases with zero skin. \n",
    "These cases has to be imputed using mean."
   ]
  },
  {
   "cell_type": "code",
   "execution_count": 9,
   "metadata": {},
   "outputs": [],
   "source": [
    "#Imputing the zero values of features with their mean values except for num_preg\n",
    "from sklearn.impute import SimpleImputer\n",
    "\n",
    "imputer=SimpleImputer(missing_values=0, strategy=\"mean\")\n",
    "imputer=imputer.fit(data.iloc[:,1:-1])\n",
    "data.iloc[:,1:-1]=imputer.transform(data.iloc[:,1:-1])"
   ]
  },
  {
   "cell_type": "code",
   "execution_count": 10,
   "metadata": {},
   "outputs": [
    {
     "data": {
      "text/plain": [
       "num_preg         0.000000\n",
       "glucose_conc    30.435949\n",
       "diastolic_bp    12.096346\n",
       "thickness        7.000000\n",
       "insulin         14.000000\n",
       "bmi              6.875151\n",
       "diab_pred        0.078000\n",
       "age             11.760232\n",
       "skin             0.275800\n",
       "dtype: float64"
      ]
     },
     "execution_count": 10,
     "metadata": {},
     "output_type": "execute_result"
    }
   ],
   "source": [
    "#Checking if the zero has been correctly replaced by mean values\n",
    "data.describe().min()"
   ]
  },
  {
   "cell_type": "markdown",
   "metadata": {},
   "source": [
    "So except for num_preg, zeroes in other features has been imputed with mean of their respective columns."
   ]
  },
  {
   "cell_type": "code",
   "execution_count": 11,
   "metadata": {},
   "outputs": [],
   "source": [
    "#Replacing the True/False with 0 and 1\n",
    "target_dict={True:1, False:0}\n",
    "data[\"diabetes\"]=data[\"diabetes\"].map(target_dict)"
   ]
  },
  {
   "cell_type": "code",
   "execution_count": 12,
   "metadata": {},
   "outputs": [
    {
     "data": {
      "text/plain": [
       "array([1, 0], dtype=int64)"
      ]
     },
     "execution_count": 12,
     "metadata": {},
     "output_type": "execute_result"
    }
   ],
   "source": [
    "#Checking if True/False in diabetes column has been correctly replaced with 1 and 0 respectively\n",
    "pd.unique(data.diabetes)"
   ]
  },
  {
   "cell_type": "markdown",
   "metadata": {},
   "source": [
    "So, True and False in the diabetes columns has been replaced with 1 and 0 respectively"
   ]
  },
  {
   "cell_type": "code",
   "execution_count": 13,
   "metadata": {},
   "outputs": [
    {
     "name": "stdout",
     "output_type": "stream",
     "text": [
      "Number of cases with diabetes equal 0 are 500\n",
      "Number of cases with diabetes equal 1 are 268\n",
      "Percentage of cases in diabetes equals '0': 0.65\n",
      "Percentage of case with diabetes equals '1': 0.35\n"
     ]
    }
   ],
   "source": [
    "#Check for the number of records with positve and negative cases of diabetes\n",
    "X=data[\"diabetes\"].value_counts()\n",
    "print(\"Number of cases with diabetes equal {} are {}\".format(X.index[0],X[0]))\n",
    "print(\"Number of cases with diabetes equal {} are {}\".format(X.index[1],X[1]))\n",
    "print(\"Percentage of cases in diabetes equals '0': {}\\nPercentage of case with diabetes equals '1': {}\".\n",
    "      format(round(X[0]/sum(X),2),round(X[1]/sum(X),2)))"
   ]
  },
  {
   "cell_type": "code",
   "execution_count": 14,
   "metadata": {},
   "outputs": [
    {
     "data": {
      "image/png": "[encoded data removed]",
      "text/plain": [
       "<Figure size 432x288 with 1 Axes>"
      ]
     },
     "metadata": {
      "needs_background": "light"
     },
     "output_type": "display_data"
    }
   ],
   "source": [
    "plt.bar(X.index,X/sum(X))\n",
    "plt.xticks((0,1))\n",
    "plt.xlabel(\"Diabetes No/Yes\")\n",
    "plt.ylabel(\"Percentage of cases\")\n",
    "plt.show()"
   ]
  },
  {
   "cell_type": "markdown",
   "metadata": {},
   "source": [
    "So there are 65% cases with no diabetes and 35% cases with daiabetes. So this data is slightly imbalanced but still it is good to continue."
   ]
  },
  {
   "cell_type": "code",
   "execution_count": 15,
   "metadata": {},
   "outputs": [],
   "source": [
    "#Train/test split\n",
    "from sklearn.model_selection import train_test_split\n",
    "X_train,X_test,y_train,y_test=train_test_split(data.iloc[:,:-1],data.iloc[:,[-1]], test_size=0.3)"
   ]
  },
  {
   "cell_type": "code",
   "execution_count": 16,
   "metadata": {},
   "outputs": [
    {
     "name": "stdout",
     "output_type": "stream",
     "text": [
      "Shape of X_train is (537, 9)\n",
      "Shape of X_test is (231, 9)\n",
      "Shape of y_train is (537, 1)\n",
      "Shape of y_test is (231, 1)\n"
     ]
    }
   ],
   "source": [
    "print(f\"Shape of X_train is {X_train.shape}\")\n",
    "print(f\"Shape of X_test is {X_test.shape}\")\n",
    "print(f\"Shape of y_train is {y_train.shape}\")\n",
    "print(f\"Shape of y_test is {y_test.shape}\")"
   ]
  },
  {
   "cell_type": "markdown",
   "metadata": {},
   "source": [
    "Data has been split into train and test set to feed it to machine learning algorithm "
   ]
  },
  {
   "cell_type": "markdown",
   "metadata": {},
   "source": [
    "### Implementing RandomForestClassifier"
   ]
  },
  {
   "cell_type": "code",
   "execution_count": 123,
   "metadata": {},
   "outputs": [],
   "source": [
    "#Applying Random Forest Classifier\n",
    "from sklearn.ensemble import RandomForestClassifier\n",
    "clf=RandomForestClassifier(random_state=10)\n",
    "clf.fit(X_train,y_train)\n",
    "predict=clf.predict(X_test)"
   ]
  },
  {
   "cell_type": "code",
   "execution_count": 314,
   "metadata": {},
   "outputs": [
    {
     "name": "stdout",
     "output_type": "stream",
     "text": [
      "Accuracy score from Random Forest Model is 0.7056277056277056\n"
     ]
    }
   ],
   "source": [
    "#Calculating the Accuracy Score for \n",
    "from sklearn.metrics import confusion_matrix,accuracy_score\n",
    "print(f\"Accuracy score from Random Forest Model is {accuracy_score(y_test,predict)}\")"
   ]
  },
  {
   "cell_type": "code",
   "execution_count": 280,
   "metadata": {},
   "outputs": [
    {
     "data": {
      "text/plain": [
       "array([[120,  24],\n",
       "       [ 44,  43]], dtype=int64)"
      ]
     },
     "execution_count": 280,
     "metadata": {},
     "output_type": "execute_result"
    }
   ],
   "source": [
    "confusion_matrix(y_pred=predict,y_true=y_test)"
   ]
  },
  {
   "cell_type": "code",
   "execution_count": 279,
   "metadata": {},
   "outputs": [
    {
     "name": "stdout",
     "output_type": "stream",
     "text": [
      "True Negative Predicted 120\n",
      "True Positive Predicted 43\n",
      "False Positive Predicted 24\n",
      "False Negative Predicted 44\n"
     ]
    }
   ],
   "source": [
    "tn,fp,fn,tp=confusion_matrix(y_pred=predict,y_true=y_test).ravel()\n",
    "print(f\"True Negative Predicted {tn}\")\n",
    "print(f\"True Positive Predicted {tp}\")\n",
    "print(f\"False Positive Predicted {fp}\")\n",
    "print(f\"False Negative Predicted {fn}\")"
   ]
  },
  {
   "cell_type": "code",
   "execution_count": 302,
   "metadata": {},
   "outputs": [],
   "source": [
    "#Calculating the feature importance score for each feature\n",
    "features=data.iloc[:,:-1].columns.ravel()\n",
    "fet_imp=list(zip(features,clf.feature_importances_))\n",
    "col=[]\n",
    "height=[]\n",
    "for l in fet_imp:\n",
    "    col.append(l[0])\n",
    "    height.append(l[1])"
   ]
  },
  {
   "cell_type": "code",
   "execution_count": 315,
   "metadata": {},
   "outputs": [
    {
     "data": {
      "image/png": "[encoded data removed]",
      "text/plain": [
       "<Figure size 432x288 with 1 Axes>"
      ]
     },
     "metadata": {
      "needs_background": "light"
     },
     "output_type": "display_data"
    }
   ],
   "source": [
    "#Plotting feature importance\n",
    "sns.barplot(x=col,y=height)\n",
    "plt.xticks(rotation=90)\n",
    "plt.xlabel(\"Features\")\n",
    "plt.ylabel(\"Feature reducing gini index\")\n",
    "plt.title(\"Plot of Fetures Importance\")\n",
    "plt.show()"
   ]
  },
  {
   "cell_type": "markdown",
   "metadata": {},
   "source": [
    "So based on the feature importance glucose_conc is major contributor in predicting whether a person has diabetes or not followed by bmi i.e body mass index"
   ]
  },
  {
   "cell_type": "markdown",
   "metadata": {},
   "source": [
    "### Tuning Random Forest Classfier using GridSearchCV:\n",
    "* GridSearchCV works for small number of hyperparameters\n",
    "* It is used when all the hyperparameters affects the validation score equally"
   ]
  },
  {
   "cell_type": "code",
   "execution_count": 325,
   "metadata": {},
   "outputs": [
    {
     "name": "stdout",
     "output_type": "stream",
     "text": [
      "Fitting 5 folds for each of 4608 candidates, totalling 23040 fits\n"
     ]
    },
    {
     "name": "stderr",
     "output_type": "stream",
     "text": [
      "[Parallel(n_jobs=-1)]: Using backend LokyBackend with 8 concurrent workers.\n",
      "[Parallel(n_jobs=-1)]: Done  25 tasks      | elapsed:    5.4s\n",
      "[Parallel(n_jobs=-1)]: Done 146 tasks      | elapsed:   15.0s\n",
      "[Parallel(n_jobs=-1)]: Done 349 tasks      | elapsed:   30.4s\n",
      "[Parallel(n_jobs=-1)]: Done 632 tasks      | elapsed:   51.0s\n",
      "[Parallel(n_jobs=-1)]: Done 997 tasks      | elapsed:  1.3min\n",
      "[Parallel(n_jobs=-1)]: Done 1442 tasks      | elapsed:  1.9min\n",
      "[Parallel(n_jobs=-1)]: Done 1969 tasks      | elapsed:  2.7min\n",
      "[Parallel(n_jobs=-1)]: Done 2576 tasks      | elapsed:  3.4min\n",
      "[Parallel(n_jobs=-1)]: Done 3265 tasks      | elapsed:  4.3min\n",
      "[Parallel(n_jobs=-1)]: Done 4034 tasks      | elapsed:  5.4min\n",
      "[Parallel(n_jobs=-1)]: Done 4885 tasks      | elapsed:  6.5min\n",
      "[Parallel(n_jobs=-1)]: Done 5816 tasks      | elapsed:  7.8min\n",
      "[Parallel(n_jobs=-1)]: Done 6829 tasks      | elapsed:  9.1min\n",
      "[Parallel(n_jobs=-1)]: Done 7922 tasks      | elapsed: 10.6min\n",
      "[Parallel(n_jobs=-1)]: Done 9097 tasks      | elapsed: 12.1min\n",
      "[Parallel(n_jobs=-1)]: Done 10352 tasks      | elapsed: 13.8min\n",
      "[Parallel(n_jobs=-1)]: Done 11689 tasks      | elapsed: 15.6min\n",
      "[Parallel(n_jobs=-1)]: Done 13106 tasks      | elapsed: 17.7min\n",
      "[Parallel(n_jobs=-1)]: Done 14605 tasks      | elapsed: 19.8min\n",
      "[Parallel(n_jobs=-1)]: Done 16184 tasks      | elapsed: 22.1min\n",
      "[Parallel(n_jobs=-1)]: Done 17845 tasks      | elapsed: 24.5min\n",
      "[Parallel(n_jobs=-1)]: Done 19586 tasks      | elapsed: 27.0min\n",
      "[Parallel(n_jobs=-1)]: Done 21409 tasks      | elapsed: 29.7min\n",
      "[Parallel(n_jobs=-1)]: Done 23040 out of 23040 | elapsed: 32.1min finished\n"
     ]
    },
    {
     "data": {
      "text/plain": [
       "GridSearchCV(cv=5, error_score='raise-deprecating',\n",
       "             estimator=RandomForestClassifier(bootstrap=True, class_weight=None,\n",
       "                                              criterion='gini', max_depth=None,\n",
       "                                              max_features='auto',\n",
       "                                              max_leaf_nodes=None,\n",
       "                                              min_impurity_decrease=0.0,\n",
       "                                              min_impurity_split=None,\n",
       "                                              min_samples_leaf=1,\n",
       "                                              min_samples_split=2,\n",
       "                                              min_weight_fraction_leaf=0.0,\n",
       "                                              n_estimators='warn', n_jobs=None,\n",
       "                                              oob_score=Fa...\n",
       "                                              verbose=0, warm_start=False),\n",
       "             iid='warn', n_jobs=-1,\n",
       "             param_grid={'bootstrap': [True], 'criterion': ['gini', 'entropy'],\n",
       "                         'max_depth': [10, 20, 40, 50, 80, 100],\n",
       "                         'max_features': [2, 3, 4],\n",
       "                         'min_samples_leaf': [2, 5, 10, 15],\n",
       "                         'min_samples_split': [8, 10, 15, 20],\n",
       "                         'n_estimators': [10, 20, 50, 100, 200, 300, 400, 500]},\n",
       "             pre_dispatch='2*n_jobs', refit=True, return_train_score=False,\n",
       "             scoring='accuracy', verbose=2)"
      ]
     },
     "execution_count": 325,
     "metadata": {},
     "output_type": "execute_result"
    }
   ],
   "source": [
    "#Tuning Random Forest Classifer\n",
    "from sklearn.model_selection import GridSearchCV\n",
    "classifier=RandomForestClassifier(random_state=0)\n",
    "parameters={\"bootstrap\":[True],\n",
    "           \"n_estimators\":[10,20,50,100,200,300,400,500],\n",
    "           \"criterion\":['gini',\"entropy\"],\n",
    "           \"max_depth\":[10,20,40,50,80,100],\n",
    "           \"min_samples_split\":[8,10,15,20],\n",
    "           \"min_samples_leaf\":[2,5,10,15],\n",
    "           \"max_features\":[2,3,4],\n",
    "           }\n",
    "#Initiate the grid search model\n",
    "grid_search=GridSearchCV(estimator=classifier,param_grid=parameters,n_jobs=-1,verbose=2,cv=5,scoring='accuracy')\n",
    "grid_search.fit(X_train,y_train)"
   ]
  },
  {
   "cell_type": "code",
   "execution_count": 326,
   "metadata": {},
   "outputs": [
    {
     "data": {
      "text/plain": [
       "0.7877094972067039"
      ]
     },
     "execution_count": 326,
     "metadata": {},
     "output_type": "execute_result"
    }
   ],
   "source": [
    "grid_search.best_score_"
   ]
  },
  {
   "cell_type": "code",
   "execution_count": 327,
   "metadata": {},
   "outputs": [
    {
     "data": {
      "text/plain": [
       "RandomForestClassifier(bootstrap=True, class_weight=None, criterion='entropy',\n",
       "                       max_depth=10, max_features=4, max_leaf_nodes=None,\n",
       "                       min_impurity_decrease=0.0, min_impurity_split=None,\n",
       "                       min_samples_leaf=2, min_samples_split=10,\n",
       "                       min_weight_fraction_leaf=0.0, n_estimators=20,\n",
       "                       n_jobs=None, oob_score=False, random_state=0, verbose=0,\n",
       "                       warm_start=False)"
      ]
     },
     "execution_count": 327,
     "metadata": {},
     "output_type": "execute_result"
    }
   ],
   "source": [
    "#Best RandomForest Estimator as per the GridSearchCV\n",
    "grid_search.best_estimator_"
   ]
  },
  {
   "cell_type": "code",
   "execution_count": 328,
   "metadata": {},
   "outputs": [
    {
     "data": {
      "text/plain": [
       "{'bootstrap': True,\n",
       " 'criterion': 'entropy',\n",
       " 'max_depth': 10,\n",
       " 'max_features': 4,\n",
       " 'min_samples_leaf': 2,\n",
       " 'min_samples_split': 10,\n",
       " 'n_estimators': 20}"
      ]
     },
     "execution_count": 328,
     "metadata": {},
     "output_type": "execute_result"
    }
   ],
   "source": [
    "#Parameters of best Randomforest Estimator from GridSearchCv\n",
    "grid_search.best_params_"
   ]
  },
  {
   "cell_type": "code",
   "execution_count": 330,
   "metadata": {},
   "outputs": [],
   "source": [
    "#Implementing RandomForestClassfier from best parameters obtained from GridSearchCV\n",
    "clf_gscv=RandomForestClassifier(bootstrap=True,criterion=\"entropy\",max_depth=10,max_features=4,min_samples_leaf=2,\n",
    "                           min_samples_split=10,n_estimators=20,random_state=10)\n",
    "clf_gscv.fit(X_train,y_train)\n",
    "predict=clf_gscv.predict(X_test)"
   ]
  },
  {
   "cell_type": "code",
   "execution_count": 332,
   "metadata": {},
   "outputs": [
    {
     "name": "stdout",
     "output_type": "stream",
     "text": [
      "Accuracy of RandomForestClassifier after GridSearchCv is 0.7532467532467533\n"
     ]
    }
   ],
   "source": [
    "#Calculating the accuracy\n",
    "accuracy_grid=accuracy_score(y_pred=predict,y_true=y_test)\n",
    "print(f\"Accuracy of RandomForestClassifier after GridSearchCv is {accuracy_grid}\")"
   ]
  },
  {
   "cell_type": "markdown",
   "metadata": {},
   "source": [
    "So accuracy of RandomForestClassifier improves from the first estimators. Initially accuracy score was approx 70% which now improves to 75%."
   ]
  },
  {
   "cell_type": "code",
   "execution_count": 343,
   "metadata": {},
   "outputs": [
    {
     "data": {
      "image/png": "[encoded data removed]",
      "text/plain": [
       "<Figure size 432x288 with 1 Axes>"
      ]
     },
     "metadata": {
      "needs_background": "light"
     },
     "output_type": "display_data"
    }
   ],
   "source": [
    "f_imp=list(zip(features,clf_gscv.feature_importances_))\n",
    "colname=[]\n",
    "gini=[]\n",
    "for var in f_imp:\n",
    "    colname.append(var[0])\n",
    "    gini.append(var[1])\n",
    "\n",
    "#Plotting feature importance\n",
    "sns.barplot(x=colname,y=gini)\n",
    "plt.xticks(rotation=90)\n",
    "plt.xlabel(\"Features\")\n",
    "plt.ylabel(\"Feature reducing gini index\")\n",
    "plt.title(\"Plot of Feature's Importance\")\n",
    "plt.show()\n"
   ]
  },
  {
   "cell_type": "markdown",
   "metadata": {},
   "source": [
    "So feature importance remains the same where glucose_conc is impacting the prediction most follwed by bmi, age and others"
   ]
  },
  {
   "cell_type": "markdown",
   "metadata": {},
   "source": [
    "### Tuning RandomForestClassifier Using RandomisedSearchCV:\n",
    "* Used when number of hyperparameters are growing\n",
    "* Also when the hyperparametes impact the validation unequally"
   ]
  },
  {
   "cell_type": "code",
   "execution_count": 125,
   "metadata": {},
   "outputs": [
    {
     "name": "stderr",
     "output_type": "stream",
     "text": [
      "C:\\Users\\sagar\\Anaconda3\\lib\\site-packages\\sklearn\\model_selection\\_search.py:814: DeprecationWarning: The default of the `iid` parameter will change from True to False in version 0.22 and will be removed in 0.24. This will change numeric results when test-set sizes are unequal.\n",
      "  DeprecationWarning)\n"
     ]
    },
    {
     "name": "stdout",
     "output_type": "stream",
     "text": [
      "\n",
      "Time taken is 0 hour 0 minutes and 17.11 seconds.\n"
     ]
    }
   ],
   "source": [
    "from scipy.stats import randint\n",
    "from sklearn.model_selection import RandomizedSearchCV\n",
    "\n",
    "starttime=timer(None)\n",
    "est=RandomForestClassifier(random_state=10)\n",
    "param_dist={\n",
    "    \"bootstrap\":[True,False],\n",
    "    \"n_estimators\":[10,20,50,100,200,300,400,500],\n",
    "    \"criterion\":['gini','entropy'],\n",
    "    'max_features':[2,3,4],\n",
    "    \"min_samples_leaf\":[2,5,10,15],\n",
    "    'min_samples_split':[8,10,15,20],\n",
    "    \"max_depth\":[10,20,40,50,80,100]\n",
    "}\n",
    "\n",
    "def hyperparamtuning_randomcv(est,param_dist,Xtrain,ytrain,cv,iter):\n",
    "    randcv=RandomizedSearchCV(estimator=est,param_distributions=param_dist,n_iter=iter,\n",
    "                              n_jobs=-1,cv=cv)\n",
    "    randcv.fit(Xtrain,ytrain)                         \n",
    "    best_score=randcv.best_score_\n",
    "    best_params=randcv.best_params_\n",
    "    return (best_score,best_params)\n",
    "\n",
    "best_score,best_params=hyperparamtuning_randomcv(est,param_dist,X_train,y_train,cv=5,iter=40)\n",
    "timer(starttime)"
   ]
  },
  {
   "cell_type": "code",
   "execution_count": 396,
   "metadata": {},
   "outputs": [
    {
     "data": {
      "text/plain": [
       "0.7821229050279329"
      ]
     },
     "execution_count": 396,
     "metadata": {},
     "output_type": "execute_result"
    }
   ],
   "source": [
    "best_score"
   ]
  },
  {
   "cell_type": "code",
   "execution_count": 397,
   "metadata": {},
   "outputs": [
    {
     "data": {
      "text/plain": [
       "{'n_estimators': 200,\n",
       " 'min_samples_split': 10,\n",
       " 'min_samples_leaf': 5,\n",
       " 'max_features': 4,\n",
       " 'max_depth': 40,\n",
       " 'criterion': 'entropy',\n",
       " 'bootstrap': True}"
      ]
     },
     "execution_count": 397,
     "metadata": {},
     "output_type": "execute_result"
    }
   ],
   "source": [
    "best_params"
   ]
  },
  {
   "cell_type": "code",
   "execution_count": 126,
   "metadata": {},
   "outputs": [
    {
     "name": "stdout",
     "output_type": "stream",
     "text": [
      "Accuracy score of RandomForestClassifier on y-test from RandomizedSeachCV is 0.7316017316017316\n"
     ]
    }
   ],
   "source": [
    "clf_random=RandomForestClassifier(n_estimators=200,min_samples_split=10,min_samples_leaf=5,max_features=4,max_depth=40,\n",
    "                                 criterion=\"entropy\",bootstrap=True, random_state=10)\n",
    "clf_random.fit(X_train,y_train)\n",
    "predict_random=clf_random.predict(X_test)\n",
    "\n",
    "accuracy_random=accuracy_score(y_pred=predict_random,y_true=y_test)\n",
    "print(f\"Accuracy score of RandomForestClassifier on y-test from RandomizedSeachCV is {accuracy_random}\")"
   ]
  },
  {
   "cell_type": "code",
   "execution_count": 128,
   "metadata": {},
   "outputs": [
    {
     "data": {
      "text/plain": [
       "0.7618281857976653"
      ]
     },
     "execution_count": 128,
     "metadata": {},
     "output_type": "execute_result"
    }
   ],
   "source": [
    "#Using Cross-validation score for selecting models\n",
    "from sklearn.model_selection import cross_val_score\n",
    "cross_val=cross_val_score(estimator=clf_random,X=data.iloc[:,1:-1],y=data.iloc[:,-1],scoring=\"accuracy\").mean()\n",
    "cross_val"
   ]
  },
  {
   "cell_type": "markdown",
   "metadata": {},
   "source": [
    "So the accuracy obtained from RandomisedSearchCV's best parameters is slightly less then the accuracy obtained from the best parameters of GridSearchCV"
   ]
  },
  {
   "cell_type": "markdown",
   "metadata": {},
   "source": [
    "### Implementing XGBoost Classifier"
   ]
  },
  {
   "cell_type": "markdown",
   "metadata": {},
   "source": [
    "* Xgboost, capable of doing parallel computation on single machine making it 10 times faster then the existing boosting framework.\n",
    "* Can be used for regression, classification and ranking\n",
    "* Has additional features of doing cross-validation and finding feature importance.\n",
    "* Can hadle missing values\n",
    "* Robust to outliers.\n",
    "* Does not requires feature scaling.\n",
    "* Can handle mixed predictors like both qualitative predictors and quantitative predictors.\n",
    "* It cannot extract linear combination of features.\n",
    "* It has high variance. (Reduces variance by combining output of different trees)\n",
    "* It is computationally scalable.\n"
   ]
  },
  {
   "cell_type": "code",
   "execution_count": 63,
   "metadata": {},
   "outputs": [
    {
     "name": "stdout",
     "output_type": "stream",
     "text": [
      "Prediction accuracy from the base XGBoostClassifier is 0.696969696969697\n",
      "Confusion matrix is\n",
      "[[126  22]\n",
      " [ 48  35]]\n"
     ]
    }
   ],
   "source": [
    "#Fitting XGBoost Classifier on training data\n",
    "from xgboost import XGBClassifier\n",
    "from sklearn.metrics import confusion_matrix, accuracy_score\n",
    "clf_xgb=XGBClassifier()\n",
    "clf_xgb.fit(X_train,y_train)\n",
    "\n",
    "#Predicting on test data\n",
    "pred_xgb=clf_xgb.predict(X_test)\n",
    "\n",
    "#Calculating the accuracy score\n",
    "acc_xgb=accuracy_score(y_pred=pred_xgb,y_true=y_test)\n",
    "print(f\"Prediction accuracy from the base XGBoostClassifier is {acc_xgb}\")\n",
    "\n",
    "#Calculating the confusion matrix\n",
    "cm=confusion_matrix(y_test,pred_xgb)\n",
    "print(f\"Confusion matrix is\\n{cm}\")\n"
   ]
  },
  {
   "cell_type": "code",
   "execution_count": 61,
   "metadata": {},
   "outputs": [],
   "source": [
    "#Timer function\n",
    "from datetime import datetime\n",
    "def timer(start_time=None):\n",
    "    if not start_time:\n",
    "        start_time=datetime.now()\n",
    "        return start_time\n",
    "    elif start_time:\n",
    "        t_hour, temp_sec=divmod((datetime.now()-start_time).total_seconds(),3600)\n",
    "        tmin,tsec=divmod(temp_sec,60)\n",
    "        print(\"\\nTime taken is %i hour %i minutes and %s seconds.\"%(t_hour, tmin,round(tsec,2)))"
   ]
  },
  {
   "cell_type": "code",
   "execution_count": 108,
   "metadata": {},
   "outputs": [
    {
     "name": "stdout",
     "output_type": "stream",
     "text": [
      "\n",
      "Time taken is 0 hour 0 minutes and 3.89 seconds.\n"
     ]
    }
   ],
   "source": [
    "#Hyperparameter Optimization XGBoost Classifier using RandomisedSearchCV\n",
    "from sklearn.model_selection import RandomizedSearchCV, GridSearchCV\n",
    "est=XGBClassifier(n_jobs=-1)\n",
    "parameters={\n",
    "    \"max_depth\":[3,4,5,6,7,8,8,10,15,20],\n",
    "    \"learning_rate\":[0.05,0.10,0.15,0.20,0.25,0.30],\n",
    "    \"min_child_weight\":[1,3,5,7],\n",
    "    \"gamma\":[0.10,0.20,0.30,0.40,0.50],\n",
    "    \"colsample_bytree\":[0.2,0.3,0.4,0.5,0.6]\n",
    "    }\n",
    "\n",
    "def tuning_xgb(estimator, para_dist,scoring, iterations,crossval, Xtrain,ytrain):\n",
    "    random_xgb=RandomizedSearchCV(estimator=estimator,param_distributions=para_dist, scoring=scoring,\n",
    "                                  random_state=10, n_iter=iterations, cv=crossval)\n",
    "    random_xgb.fit(Xtrain,ytrain)\n",
    "    best_score=random_xgb.best_score_\n",
    "    best_param=random_xgb.best_params_\n",
    "    best_estimator=random_xgb.best_estimator_\n",
    "    return (best_score, best_param,best_estimator)\n",
    "\n",
    "start_time=timer(None)\n",
    "bestscore_xgb,bestparam_xgb,best_estimator=tuning_xgb(est,parameters,scoring=\"accuracy\",iterations=5,\n",
    "                                       crossval=9,Xtrain=X_train,ytrain=y_train)\n",
    "timer(start_time)"
   ]
  },
  {
   "cell_type": "code",
   "execution_count": 109,
   "metadata": {},
   "outputs": [
    {
     "name": "stdout",
     "output_type": "stream",
     "text": [
      "RandomizedSearchCV best score 0.7839851024208566\n"
     ]
    }
   ],
   "source": [
    "print(f\"RandomizedSearchCV best score {bestscore_xgb}\")"
   ]
  },
  {
   "cell_type": "code",
   "execution_count": 110,
   "metadata": {},
   "outputs": [
    {
     "name": "stdout",
     "output_type": "stream",
     "text": [
      "RandomizedSearchCV best parameters\n",
      "{'min_child_weight': 7, 'max_depth': 8, 'learning_rate': 0.1, 'gamma': 0.5, 'colsample_bytree': 0.5}\n"
     ]
    }
   ],
   "source": [
    "print(f\"RandomizedSearchCV best parameters\\n{bestparam_xgb}\")"
   ]
  },
  {
   "cell_type": "code",
   "execution_count": 111,
   "metadata": {},
   "outputs": [
    {
     "data": {
      "text/plain": [
       "XGBClassifier(base_score=0.5, booster=None, colsample_bylevel=1,\n",
       "              colsample_bynode=1, colsample_bytree=0.5, gamma=0.5, gpu_id=-1,\n",
       "              importance_type='gain', interaction_constraints=None,\n",
       "              learning_rate=0.1, max_delta_step=0, max_depth=8,\n",
       "              min_child_weight=7, missing=nan, monotone_constraints=None,\n",
       "              n_estimators=100, n_jobs=-1, num_parallel_tree=1,\n",
       "              objective='binary:logistic', random_state=0, reg_alpha=0,\n",
       "              reg_lambda=1, scale_pos_weight=1, subsample=1, tree_method=None,\n",
       "              validate_parameters=False, verbosity=None)"
      ]
     },
     "execution_count": 111,
     "metadata": {},
     "output_type": "execute_result"
    }
   ],
   "source": [
    "best_estimator"
   ]
  },
  {
   "cell_type": "code",
   "execution_count": 113,
   "metadata": {},
   "outputs": [],
   "source": [
    "clf_xgb_tuned=XGBClassifier(base_score=0.5, booster=None, colsample_bylevel=1,\n",
    "              colsample_bynode=1, colsample_bytree=0.5, gamma=0.5, gpu_id=-1,\n",
    "              importance_type='gain', interaction_constraints=None,\n",
    "              learning_rate=0.1, max_delta_step=0, max_depth=8,\n",
    "              min_child_weight=7, missing=None, monotone_constraints=None,\n",
    "              n_estimators=100, n_jobs=-1, num_parallel_tree=1,\n",
    "              objective='binary:logistic', random_state=0, reg_alpha=0,\n",
    "              reg_lambda=1, scale_pos_weight=1, subsample=1, tree_method=None,\n",
    "              validate_parameters=False, verbosity=None)"
   ]
  },
  {
   "cell_type": "code",
   "execution_count": 121,
   "metadata": {},
   "outputs": [
    {
     "name": "stdout",
     "output_type": "stream",
     "text": [
      "0.7487525632262474\n"
     ]
    }
   ],
   "source": [
    "#Checking the cross-validation score\n",
    "from sklearn.model_selection import cross_val_score\n",
    "score=cross_val_score(estimator=clf_xgb_tuned,X=data.iloc[:,1:-1],y=data.iloc[:,-1],cv=10).mean()\n",
    "print(score)"
   ]
  },
  {
   "cell_type": "code",
   "execution_count": 114,
   "metadata": {},
   "outputs": [
    {
     "name": "stdout",
     "output_type": "stream",
     "text": [
      "Accuracy score for tuned XGBoostClassifier is 0.696969696969697\n"
     ]
    }
   ],
   "source": [
    "clf_xgb_tuned.fit(X_train,y_train)\n",
    "predict_xgb_tuned=clf_xgb_tuned.predict(X_test)\n",
    "accuracy_xgb_tuned=accuracy_score(y_pred=predict_xgb_tuned,y_true=y_test)\n",
    "print(f\"Accuracy score for tuned XGBoostClassifier is {accuracy_xgb_tuned}\")"
   ]
  },
  {
   "cell_type": "code",
   "execution_count": 99,
   "metadata": {},
   "outputs": [
    {
     "name": "stdout",
     "output_type": "stream",
     "text": [
      "0.6312276131553242\n"
     ]
    }
   ],
   "source": [
    "from sklearn.metrics import roc_auc_score\n",
    "roc_score=roc_auc_score(y_true=y_test,y_score=predict_xgb_tuned)\n",
    "print(roc_score)"
   ]
  }
 ],
 "metadata": {
  "kernelspec": {
   "display_name": "Python 3",
   "language": "python",
   "name": "python3"
  },
  "language_info": {
   "codemirror_mode": {
    "name": "ipython",
    "version": 3
   },
   "file_extension": ".py",
   "mimetype": "text/x-python",
   "name": "python",
   "nbconvert_exporter": "python",
   "pygments_lexer": "ipython3",
   "version": "3.7.4"
  }
 },
 "nbformat": 4,
 "nbformat_minor": 2
}
